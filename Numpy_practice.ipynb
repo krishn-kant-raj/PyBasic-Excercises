{
 "cells": [
  {
   "cell_type": "code",
   "execution_count": null,
   "metadata": {},
   "outputs": [],
   "source": [
    "import numpy as np\n",
    "print(np.__version__)"
   ]
  },
  {
   "cell_type": "markdown",
   "metadata": {},
   "source": [
    "# Create numpy array"
   ]
  },
  {
   "cell_type": "code",
   "execution_count": null,
   "metadata": {},
   "outputs": [],
   "source": [
    "#list1 = [1,2,3,4,5]\n",
    "#arr = np.array(list1)\n",
    "carr = np.array([1,2,3,4,5])\n",
    "print(carr, type(carr))"
   ]
  },
  {
   "cell_type": "code",
   "execution_count": null,
   "metadata": {
    "scrolled": true
   },
   "outputs": [],
   "source": [
    "# 0-D Arrays\n",
    "zarr = np.array(7)\n",
    "print(zarr)\n",
    "print('Dimension of zarr:',zarr.ndim)"
   ]
  },
  {
   "cell_type": "code",
   "execution_count": null,
   "metadata": {},
   "outputs": [],
   "source": [
    "print('Dimension of arr:',carr.ndim)"
   ]
  },
  {
   "cell_type": "code",
   "execution_count": null,
   "metadata": {
    "scrolled": true
   },
   "outputs": [],
   "source": [
    "ndArr = np.array([[1,2,3]])\n",
    "print('Dimension of ndArr:',ndArr.ndim)"
   ]
  },
  {
   "cell_type": "code",
   "execution_count": null,
   "metadata": {
    "scrolled": true
   },
   "outputs": [],
   "source": [
    "#create an array with 5 dimensions\n",
    "NdimArr = np.array([1,2,3,4,5,6,7], ndmin = 5)\n",
    "print(NdimArr)"
   ]
  },
  {
   "cell_type": "code",
   "execution_count": null,
   "metadata": {},
   "outputs": [],
   "source": [
    "# Access Array Elements\n",
    "# return 4-D array\n",
    "NdimArr[0]"
   ]
  },
  {
   "cell_type": "code",
   "execution_count": null,
   "metadata": {},
   "outputs": [],
   "source": [
    "# return 3-D array\n",
    "NdimArr[0,0]"
   ]
  },
  {
   "cell_type": "code",
   "execution_count": null,
   "metadata": {
    "scrolled": true
   },
   "outputs": [],
   "source": [
    "# return inner most elements 1-D array\n",
    "print(NdimArr[0,0,0,0])\n",
    "print(NdimArr[0,0,0,0].ndim)"
   ]
  },
  {
   "cell_type": "code",
   "execution_count": null,
   "metadata": {},
   "outputs": [],
   "source": [
    "# Now access the 2nd element of 5-D array\n",
    "NdimArr[0,0,0,0,1]"
   ]
  },
  {
   "cell_type": "code",
   "execution_count": null,
   "metadata": {},
   "outputs": [],
   "source": [
    "# Negative indexing\n",
    "# Last element from 5-D array\n",
    "print(NdimArr[0,0,0,0,-1])"
   ]
  },
  {
   "cell_type": "code",
   "execution_count": null,
   "metadata": {},
   "outputs": [],
   "source": [
    "# work like repetation of elements\n",
    "# value present in list will be appended 4 times in same list but not affect on original list\n",
    "list1 = [1,2,3,4,5]\n",
    "print(list1*4)"
   ]
  },
  {
   "cell_type": "code",
   "execution_count": null,
   "metadata": {},
   "outputs": [],
   "source": [
    "arr = np.array([1,2,3,4])\n",
    "print(arr, type(arr))"
   ]
  },
  {
   "cell_type": "code",
   "execution_count": null,
   "metadata": {},
   "outputs": [],
   "source": [
    "#elements will be multiplied by 4\n",
    "print(arr*4)"
   ]
  },
  {
   "cell_type": "code",
   "execution_count": null,
   "metadata": {},
   "outputs": [],
   "source": [
    "x = [1,2,3,4,5,6,7]\n",
    "y = [4,5,3,1,2,6,5]\n",
    "arr1 = np.array(x)\n",
    "arr2 = np.array(y)\n",
    "print(arr1 * arr2)"
   ]
  },
  {
   "cell_type": "code",
   "execution_count": null,
   "metadata": {},
   "outputs": [],
   "source": [
    "mat1 = np.array([[1,2,3],[4,5,6],[7,8,9]])\n",
    "print(mat1)"
   ]
  },
  {
   "cell_type": "code",
   "execution_count": null,
   "metadata": {},
   "outputs": [],
   "source": [
    "print(type(mat1))"
   ]
  },
  {
   "cell_type": "code",
   "execution_count": null,
   "metadata": {},
   "outputs": [],
   "source": [
    "mat2 = np.array([[1,2,3],[4,5,6],[7,8,9]])\n",
    "print(mat2)"
   ]
  },
  {
   "cell_type": "code",
   "execution_count": null,
   "metadata": {},
   "outputs": [],
   "source": [
    "type(mat2)"
   ]
  },
  {
   "cell_type": "code",
   "execution_count": null,
   "metadata": {},
   "outputs": [],
   "source": [
    "# addition of two matrices\n",
    "mat1 + mat2"
   ]
  },
  {
   "cell_type": "code",
   "execution_count": null,
   "metadata": {},
   "outputs": [],
   "source": [
    "# subtraction of two matrices\n",
    "mat1 - mat2"
   ]
  },
  {
   "cell_type": "code",
   "execution_count": null,
   "metadata": {},
   "outputs": [],
   "source": [
    "print(mat1, \"\\n\\n\" ,mat2)\n",
    "\n",
    "#matrix multiplication\n",
    "mat1@mat2"
   ]
  },
  {
   "cell_type": "code",
   "execution_count": null,
   "metadata": {},
   "outputs": [],
   "source": [
    "#element multiplication\n",
    "# [[1*1 2*2 3*3]\n",
    "# [4*4 5*5 6*6]\n",
    "# [7*7 8*8 9*9]]\n",
    "mat1*mat2"
   ]
  },
  {
   "cell_type": "code",
   "execution_count": null,
   "metadata": {},
   "outputs": [],
   "source": [
    "# Concatinate mat1 and mat2\n",
    "con_mat = np.concatenate((mat1, mat2),axis=1)\n",
    "con_mat"
   ]
  },
  {
   "cell_type": "code",
   "execution_count": null,
   "metadata": {},
   "outputs": [],
   "source": [
    "# stack is same as concatinate function\n",
    "# only difference is that stacking is done along a new axis\n",
    "# Which would result in putiing them one over the other i.e stacking\n",
    "stack_mat = np.stack((mat1,mat2),axis=1)\n",
    "stack_mat"
   ]
  },
  {
   "cell_type": "code",
   "execution_count": null,
   "metadata": {},
   "outputs": [],
   "source": [
    "stack_mat = np.stack((mat1,mat2),axis=0)\n",
    "stack_mat"
   ]
  },
  {
   "cell_type": "code",
   "execution_count": null,
   "metadata": {},
   "outputs": [],
   "source": [
    "oneDarr = np.array([1,2,3])\n",
    "oneDarr1 = np.array([4,5,6])\n",
    "newOneDarr = np.stack((oneDarr,oneDarr1),axis=1)\n",
    "newOneDarr"
   ]
  },
  {
   "cell_type": "code",
   "execution_count": null,
   "metadata": {},
   "outputs": [],
   "source": [
    "newOneDarr2 = np.concatenate((oneDarr,oneDarr1))\n",
    "print(newOneDarr2)\n",
    "# we can also do the same using hstack()\n",
    "newOneDarr3 = np.hstack((oneDarr,oneDarr1))\n",
    "print(newOneDarr3)"
   ]
  },
  {
   "cell_type": "code",
   "execution_count": null,
   "metadata": {},
   "outputs": [],
   "source": [
    "# stack along columns\n",
    "stack_mat1 = np.vstack((mat1,mat2))\n",
    "stack_mat1"
   ]
  },
  {
   "cell_type": "code",
   "execution_count": null,
   "metadata": {},
   "outputs": [],
   "source": [
    "# stack along height\n",
    "stack_mat2 = np.dstack((mat1,mat2))\n",
    "stack_mat2"
   ]
  },
  {
   "cell_type": "code",
   "execution_count": null,
   "metadata": {},
   "outputs": [],
   "source": [
    "#arange is same as range function\n",
    "arr1 = np.arange(10)\n",
    "arr1"
   ]
  },
  {
   "cell_type": "code",
   "execution_count": null,
   "metadata": {},
   "outputs": [],
   "source": [
    "arr2 = np.arange(10,20)\n",
    "arr2"
   ]
  },
  {
   "cell_type": "code",
   "execution_count": null,
   "metadata": {},
   "outputs": [],
   "source": [
    "arr3 = np.arange(10,100,5)\n",
    "arr3"
   ]
  },
  {
   "cell_type": "code",
   "execution_count": null,
   "metadata": {},
   "outputs": [],
   "source": [
    "# how it works?\n",
    "\n",
    "# linspace is use to generate numbers between a range in numpy\n",
    "# its also done by rand or randint but we can not perform any operation directly on it\n",
    "\n",
    "arr4 = np.linspace(10,20,5)\n",
    "arr4"
   ]
  },
  {
   "cell_type": "code",
   "execution_count": null,
   "metadata": {},
   "outputs": [],
   "source": [
    "# remove last element 20 i.e exclude last one\n",
    "arr5 = np.linspace(10,20,5,endpoint=False)\n",
    "arr5"
   ]
  },
  {
   "cell_type": "code",
   "execution_count": null,
   "metadata": {},
   "outputs": [],
   "source": [
    "# retstep will give the difference between two numbers\n",
    "arr6 = np.linspace(10,20, endpoint=False, retstep=True)\n",
    "arr6"
   ]
  },
  {
   "cell_type": "code",
   "execution_count": null,
   "metadata": {},
   "outputs": [],
   "source": [
    "arr7 = np.linspace(1,2,10)\n",
    "arr7"
   ]
  },
  {
   "cell_type": "code",
   "execution_count": null,
   "metadata": {},
   "outputs": [],
   "source": [
    "# it will return the 10 number whoes log values are in between 10 to 20\n",
    "arr8 = np.logspace(1,2, num = 10)\n",
    "arr8"
   ]
  },
  {
   "cell_type": "code",
   "execution_count": null,
   "metadata": {},
   "outputs": [],
   "source": [
    "arr9 = np.array([1,2,3,4])\n",
    "print(arr9.dtype)"
   ]
  },
  {
   "cell_type": "code",
   "execution_count": null,
   "metadata": {},
   "outputs": [],
   "source": [
    "arr10 = np.array([1,2,3,4], dtype=float)\n",
    "arr10"
   ]
  },
  {
   "cell_type": "code",
   "execution_count": null,
   "metadata": {},
   "outputs": [],
   "source": [
    "# if one element is float type the whole elements become float\n",
    "arr11 = np.array([1,2,3,4,5.6,6,7,8])\n",
    "arr11"
   ]
  },
  {
   "cell_type": "code",
   "execution_count": null,
   "metadata": {},
   "outputs": [],
   "source": [
    "# here all elements are in int format\n",
    "arr12 = np.array([1,2,3,4,5.6,6,7,8], dtype=int)\n",
    "arr12"
   ]
  },
  {
   "cell_type": "code",
   "execution_count": null,
   "metadata": {},
   "outputs": [],
   "source": [
    "arr12.dtype"
   ]
  },
  {
   "cell_type": "code",
   "execution_count": null,
   "metadata": {},
   "outputs": [],
   "source": [
    "arr13 = np.array([1,2,3,4,5.6,6,7,8.9], dtype='int8')\n",
    "arr13"
   ]
  },
  {
   "cell_type": "code",
   "execution_count": null,
   "metadata": {},
   "outputs": [],
   "source": [
    "arr13.dtype"
   ]
  },
  {
   "cell_type": "markdown",
   "metadata": {},
   "source": [
    "# Data Types in NymPy\n",
    "\n",
    "#### NumPy has some extra data types, and refer to dat types with one character, like:\n",
    "\n",
    "- ```i ``` for integer\n",
    "- ```b ``` for boolean\n",
    "- ```u ``` for unsigned integer\n",
    "- ```f ``` for float\n",
    "- ```c ``` for complex number\n",
    "- ```m ``` for timedelta\n",
    "- ```M ``` for datetime\n",
    "- ```O ``` for object\n",
    "- ```S ``` for string\n",
    "- ```U ``` for unicode string\n",
    "- ```V ``` for fixed chunk of memory for other type(void)\n",
    "\n",
    "For ```i ```, ```u ```, ```f ```, ```S ```, ```U ``` we can define sixe as well\n",
    "\n",
    "### Non Integer strings like 'a' can not be converted to integer, it will raise error\n",
    "\n",
    "> Example\n",
    "``` arr = np.array(['a','1','2','3','4'], dtype = 'i') ```\n",
    "> ###  ValueError: invalid literal for int() with base 10: 'a'"
   ]
  },
  {
   "cell_type": "code",
   "execution_count": null,
   "metadata": {},
   "outputs": [],
   "source": [
    "#i1 for int8\n",
    "#i2 for int16\n",
    "#i4 for int32\n",
    "#i8 for int64\n",
    "\n",
    "arr14 = np.array([1,2,3,4,5.6,7,8.9], dtype='i1')\n",
    "arr14"
   ]
  },
  {
   "cell_type": "code",
   "execution_count": null,
   "metadata": {
    "scrolled": true
   },
   "outputs": [],
   "source": [
    "arr14.dtype"
   ]
  },
  {
   "cell_type": "code",
   "execution_count": null,
   "metadata": {},
   "outputs": [],
   "source": [
    "# Converting Data Types on Existing Arrays\n",
    "# use astype() method and make a copy of it\n",
    "newarr14 = arr14.astype('f')\n",
    "print('Converted to Floating type',newarr14)\n",
    "print('Data type of newaarr14: ',newarr14.dtype)"
   ]
  },
  {
   "cell_type": "code",
   "execution_count": null,
   "metadata": {},
   "outputs": [],
   "source": [
    "Bool = np.array([1,2,3,0,5,0,7])\n",
    "#newBool = Bool.astype('int32')\n",
    "#newBool = Bool.astype('f')\n",
    "newBool = Bool.astype(bool)\n",
    "print('Converted to boolean type:',newBool)\n",
    "print(\"Data type of newBool\",newBool.dtype)"
   ]
  },
  {
   "cell_type": "code",
   "execution_count": null,
   "metadata": {},
   "outputs": [],
   "source": [
    "arr14 = np.array([1,2,3,4,5.6,7,8.9], dtype='int64')\n",
    "arr14"
   ]
  },
  {
   "cell_type": "code",
   "execution_count": null,
   "metadata": {},
   "outputs": [],
   "source": [
    "arr14.dtype"
   ]
  },
  {
   "cell_type": "code",
   "execution_count": null,
   "metadata": {},
   "outputs": [],
   "source": [
    "# 2^8 = 128 hence the cycle range is o to 127\n",
    "arr15 = np.array([258,129,4,5,9.5], dtype='i1')\n",
    "arr15"
   ]
  },
  {
   "cell_type": "code",
   "execution_count": null,
   "metadata": {},
   "outputs": [],
   "source": [
    "# create your own datatype\n",
    "student = np.dtype([('name','U20'),('age','i1'),('marks','f4')])"
   ]
  },
  {
   "cell_type": "code",
   "execution_count": null,
   "metadata": {},
   "outputs": [],
   "source": [
    "student"
   ]
  },
  {
   "cell_type": "code",
   "execution_count": null,
   "metadata": {},
   "outputs": [],
   "source": [
    "arr16 = np.array([('Krishn',20,87,9),('Gautam',19,86,5),('Shivani',20,98,5)])\n",
    "arr16"
   ]
  },
  {
   "cell_type": "code",
   "execution_count": null,
   "metadata": {},
   "outputs": [],
   "source": [
    "arr17 = np.array([('Krishn',20,87.9),('Gautam',19,86.5),('Shivani',20,98.5)], dtype=student)"
   ]
  },
  {
   "cell_type": "code",
   "execution_count": null,
   "metadata": {},
   "outputs": [],
   "source": [
    "arr17['name']"
   ]
  },
  {
   "cell_type": "code",
   "execution_count": null,
   "metadata": {},
   "outputs": [],
   "source": [
    "arr17['age']"
   ]
  },
  {
   "cell_type": "code",
   "execution_count": null,
   "metadata": {},
   "outputs": [],
   "source": [
    "arr17['marks']"
   ]
  },
  {
   "cell_type": "code",
   "execution_count": null,
   "metadata": {},
   "outputs": [],
   "source": [
    "arr18 = np.array([1,2,3,4.5,6])\n",
    "arr18.dtype"
   ]
  },
  {
   "cell_type": "code",
   "execution_count": null,
   "metadata": {},
   "outputs": [],
   "source": [
    "arr19 = np.array([1,3,5,6,7.8,'little'])\n",
    "arr19.dtype"
   ]
  },
  {
   "cell_type": "code",
   "execution_count": null,
   "metadata": {},
   "outputs": [],
   "source": [
    "#arrzeros = np.zeros([5,2])\n",
    "#arrzeros = np.zeros((5,2)\n",
    "arrzeros = np.zeros(5)\n",
    "arrzeros"
   ]
  },
  {
   "cell_type": "code",
   "execution_count": null,
   "metadata": {},
   "outputs": [],
   "source": [
    "s = (5,2)\n",
    "np.zeros(s)"
   ]
  },
  {
   "cell_type": "code",
   "execution_count": null,
   "metadata": {},
   "outputs": [],
   "source": [
    "# custom datatype array\n",
    "#arr20  = np.zeros((5,2), dtype=[('x', 'i4'), ('y', 'i4')])\n",
    "#arr20  = np.zeros((5,2), dtype=[('x', 'f4'), ('y', 'f4')])\n",
    "#arr20  = np.zeros((5,2), dtype=[('x', 'f4'), ('y', 'i4')])\n",
    "arr20  = np.zeros((5,2), dtype=[('x', 'i4'), ('y', 'f2')])\n",
    "arr20"
   ]
  },
  {
   "cell_type": "code",
   "execution_count": null,
   "metadata": {},
   "outputs": [],
   "source": [
    "print(arr20[0,0])\n",
    "print(type(arr20[0,0]))\n",
    "print(type(arr20[0,0][0]))"
   ]
  },
  {
   "cell_type": "code",
   "execution_count": null,
   "metadata": {},
   "outputs": [],
   "source": [
    "arrzeros.dtype"
   ]
  },
  {
   "cell_type": "code",
   "execution_count": null,
   "metadata": {},
   "outputs": [],
   "source": [
    "arrzeros = np.zeros(5, dtype='i1')\n",
    "arrzeros"
   ]
  },
  {
   "cell_type": "code",
   "execution_count": null,
   "metadata": {},
   "outputs": [],
   "source": [
    "mat4 = np.zeros((3,2), dtype='i1')\n",
    "mat4"
   ]
  },
  {
   "cell_type": "code",
   "execution_count": null,
   "metadata": {},
   "outputs": [],
   "source": [
    "mat5 =np.zeros((3,2))"
   ]
  },
  {
   "cell_type": "code",
   "execution_count": null,
   "metadata": {},
   "outputs": [],
   "source": [
    "mat5"
   ]
  },
  {
   "cell_type": "code",
   "execution_count": null,
   "metadata": {},
   "outputs": [],
   "source": [
    "name = np.array(['name','krishn','kant'])"
   ]
  },
  {
   "cell_type": "code",
   "execution_count": null,
   "metadata": {},
   "outputs": [],
   "source": [
    "name"
   ]
  },
  {
   "cell_type": "code",
   "execution_count": null,
   "metadata": {},
   "outputs": [],
   "source": [
    "# we can store different type of data in an ararry but can only do operations on numerical type\n",
    "# That's why it is giving error\n",
    "name*3"
   ]
  },
  {
   "cell_type": "code",
   "execution_count": null,
   "metadata": {
    "scrolled": true
   },
   "outputs": [],
   "source": [
    "arr1 = np.array([[1,2,3],[4,5,6],[7,8,9]])\n",
    "arr1"
   ]
  },
  {
   "cell_type": "code",
   "execution_count": null,
   "metadata": {},
   "outputs": [],
   "source": [
    "arr1.shape"
   ]
  },
  {
   "cell_type": "code",
   "execution_count": null,
   "metadata": {},
   "outputs": [],
   "source": [
    "arr1.ndim"
   ]
  },
  {
   "cell_type": "code",
   "execution_count": null,
   "metadata": {},
   "outputs": [],
   "source": [
    "arr1.dtype"
   ]
  },
  {
   "cell_type": "code",
   "execution_count": null,
   "metadata": {},
   "outputs": [],
   "source": [
    "arr1.size"
   ]
  },
  {
   "cell_type": "code",
   "execution_count": null,
   "metadata": {},
   "outputs": [],
   "source": [
    "arr1.itemsize"
   ]
  },
  {
   "cell_type": "code",
   "execution_count": null,
   "metadata": {},
   "outputs": [],
   "source": [
    "# copy Vs view\n",
    "# copy - does not reflect any changes on original array\n",
    "Arr = np.array([1,2,3,4,5,7,8])\n",
    "print('Original Array',Arr)\n",
    "cpyArr = Arr.copy()\n",
    "Arr[5]=6\n",
    "print('Changed in Original Array',Arr)\n",
    "print('Copied Array',cpyArr)\n",
    "print()\n",
    "\n",
    "# View - reflect changes on original array too\n",
    "Arr1 = np.array([1,2,3,4,5,7,8])\n",
    "print('Original Array',Arr1)\n",
    "ViewArr = Arr1.view()\n",
    "Arr1[5]=16\n",
    "print('Current Original Array',Arr1)\n",
    "print('View Array',ViewArr)"
   ]
  },
  {
   "cell_type": "code",
   "execution_count": null,
   "metadata": {},
   "outputs": [],
   "source": [
    "# in above program copy owns the data and view does not own data\n",
    "# Every NumPy array has the attribute base that retun None, if the array owns the data\n",
    "# If array does not owns data the base attribute refers to the original object\n",
    "# let's check it\n",
    "Arr2 = np.array([1,2,3,4,5])\n",
    "x = Arr2.copy()\n",
    "y = Arr2.view()\n",
    "print(x.base) #return None\n",
    "print(y.base) # return original array"
   ]
  },
  {
   "cell_type": "code",
   "execution_count": null,
   "metadata": {},
   "outputs": [],
   "source": [
    "arr4 = np.ones((3,3),dtype='int8')"
   ]
  },
  {
   "cell_type": "code",
   "execution_count": null,
   "metadata": {},
   "outputs": [],
   "source": [
    "arr4"
   ]
  },
  {
   "cell_type": "code",
   "execution_count": null,
   "metadata": {},
   "outputs": [],
   "source": [
    "arr5 = np.full((3,3),5)\n",
    "arr5"
   ]
  },
  {
   "cell_type": "code",
   "execution_count": null,
   "metadata": {},
   "outputs": [],
   "source": [
    "arr6 = np.identity(4)\n",
    "arr6"
   ]
  },
  {
   "cell_type": "code",
   "execution_count": null,
   "metadata": {},
   "outputs": [],
   "source": [
    "arr7 = np.identity(4, dtype='int8')\n",
    "arr7"
   ]
  },
  {
   "cell_type": "code",
   "execution_count": null,
   "metadata": {},
   "outputs": [],
   "source": [
    "arr8 = np.diag([1,2,3,4])\n",
    "arr8"
   ]
  },
  {
   "cell_type": "markdown",
   "metadata": {},
   "source": [
    "# Reshaping Technique"
   ]
  },
  {
   "cell_type": "code",
   "execution_count": null,
   "metadata": {},
   "outputs": [],
   "source": [
    "arr1 = np.array([[1,2,3],[4,5,6],[7,8,9]])\n",
    "arr1"
   ]
  },
  {
   "cell_type": "code",
   "execution_count": null,
   "metadata": {},
   "outputs": [],
   "source": [
    "#convert to 1 D row wise\n",
    "y = arr1.flatten()\n",
    "y"
   ]
  },
  {
   "cell_type": "code",
   "execution_count": null,
   "metadata": {},
   "outputs": [],
   "source": [
    "# column wise conversion in 1 D\n",
    "y1 = arr1.flatten(order='F')\n",
    "y1"
   ]
  },
  {
   "cell_type": "code",
   "execution_count": null,
   "metadata": {},
   "outputs": [],
   "source": [
    "#ravel is same as print(arr1.reshape(-1))\n",
    "# reshape(-1) will convert any shape of array in a row\n",
    "y2 = np.ravel(arr1)\n",
    "y2"
   ]
  },
  {
   "cell_type": "code",
   "execution_count": null,
   "metadata": {},
   "outputs": [],
   "source": [
    "# convert multi dimensional array into column wise conversion in 1 D\n",
    "y3 = np.ravel(arr1,order='F')\n",
    "y3"
   ]
  },
  {
   "cell_type": "code",
   "execution_count": null,
   "metadata": {},
   "outputs": [],
   "source": [
    "x = np.arange(8)"
   ]
  },
  {
   "cell_type": "code",
   "execution_count": null,
   "metadata": {},
   "outputs": [],
   "source": [
    "x"
   ]
  },
  {
   "cell_type": "code",
   "execution_count": null,
   "metadata": {},
   "outputs": [],
   "source": [
    "x.reshape((4,2))"
   ]
  },
  {
   "cell_type": "code",
   "execution_count": null,
   "metadata": {},
   "outputs": [],
   "source": [
    "x.reshape((2,4))"
   ]
  },
  {
   "cell_type": "code",
   "execution_count": null,
   "metadata": {},
   "outputs": [],
   "source": [
    "# column wise\n",
    "x.reshape((4,2), order='F')"
   ]
  },
  {
   "cell_type": "code",
   "execution_count": null,
   "metadata": {},
   "outputs": [],
   "source": [
    "x.reshape((2,4), order='F')"
   ]
  },
  {
   "cell_type": "code",
   "execution_count": null,
   "metadata": {},
   "outputs": [],
   "source": [
    "# we have only 8 elements in arr1 so it will give error\n",
    "x.reshape((3,3))"
   ]
  },
  {
   "cell_type": "code",
   "execution_count": null,
   "metadata": {},
   "outputs": [],
   "source": [
    "# two matrix of 2X2 \n",
    "x.reshape((2,2,2))"
   ]
  },
  {
   "cell_type": "code",
   "execution_count": null,
   "metadata": {},
   "outputs": [],
   "source": [
    "x = np.arange(24)"
   ]
  },
  {
   "cell_type": "code",
   "execution_count": null,
   "metadata": {},
   "outputs": [],
   "source": [
    "x"
   ]
  },
  {
   "cell_type": "code",
   "execution_count": null,
   "metadata": {},
   "outputs": [],
   "source": [
    "y1 = x.reshape((4,6))"
   ]
  },
  {
   "cell_type": "code",
   "execution_count": null,
   "metadata": {},
   "outputs": [],
   "source": [
    "y1"
   ]
  },
  {
   "cell_type": "code",
   "execution_count": null,
   "metadata": {},
   "outputs": [],
   "source": [
    "y2 = y1.reshape((6,4))\n",
    "y2"
   ]
  },
  {
   "cell_type": "code",
   "execution_count": null,
   "metadata": {},
   "outputs": [],
   "source": [
    "#here -1 is auto calculated nos of rows and 3 is nos of columns\n",
    "y3 = x.reshape((-1,3))"
   ]
  },
  {
   "cell_type": "code",
   "execution_count": null,
   "metadata": {},
   "outputs": [],
   "source": [
    "y3"
   ]
  },
  {
   "cell_type": "code",
   "execution_count": null,
   "metadata": {},
   "outputs": [],
   "source": [
    "# no of column will be auto calculated and rows will be 3\n",
    "y4 = x.reshape((3,-1))\n",
    "y4"
   ]
  },
  {
   "cell_type": "code",
   "execution_count": null,
   "metadata": {},
   "outputs": [],
   "source": [
    "# 4 matrix of 3 X 2\n",
    "\n",
    "y5 = x.reshape((4,3,2))"
   ]
  },
  {
   "cell_type": "code",
   "execution_count": null,
   "metadata": {},
   "outputs": [],
   "source": [
    "y5"
   ]
  },
  {
   "cell_type": "code",
   "execution_count": null,
   "metadata": {},
   "outputs": [],
   "source": [
    "# Return the original array, so it is a view\n",
    "print(y4.reshape((4,3,2)).base)"
   ]
  },
  {
   "cell_type": "code",
   "execution_count": null,
   "metadata": {},
   "outputs": [],
   "source": [
    "x"
   ]
  },
  {
   "cell_type": "code",
   "execution_count": null,
   "metadata": {},
   "outputs": [],
   "source": [
    "#resize will call with numpy object eg. np.resixe()\n",
    "y1 = np.resize(x,(4,6))"
   ]
  },
  {
   "cell_type": "code",
   "execution_count": null,
   "metadata": {},
   "outputs": [],
   "source": [
    "y1"
   ]
  },
  {
   "cell_type": "code",
   "execution_count": null,
   "metadata": {},
   "outputs": [],
   "source": [
    "# there is a requirement of 30 elements so after 23 it will start from start \n",
    "# to fill the rest 6 elements in matrix\n",
    "y2 = np.resize(x,(5,6))\n",
    "y2"
   ]
  },
  {
   "cell_type": "code",
   "execution_count": null,
   "metadata": {},
   "outputs": [],
   "source": [
    "y3 = np.resize(x,(3,2))\n",
    "y3"
   ]
  },
  {
   "cell_type": "markdown",
   "metadata": {},
   "source": [
    "# Slicing"
   ]
  },
  {
   "cell_type": "code",
   "execution_count": null,
   "metadata": {},
   "outputs": [],
   "source": [
    "x[:2]"
   ]
  },
  {
   "cell_type": "code",
   "execution_count": null,
   "metadata": {},
   "outputs": [],
   "source": [
    "x[::2]"
   ]
  },
  {
   "cell_type": "code",
   "execution_count": null,
   "metadata": {},
   "outputs": [],
   "source": [
    "x[2:7:2]"
   ]
  },
  {
   "cell_type": "code",
   "execution_count": null,
   "metadata": {},
   "outputs": [],
   "source": [
    "arr1 = np.array([[11,12,13],[21,22,23],[31,32,33]])\n",
    "arr1"
   ]
  },
  {
   "cell_type": "code",
   "execution_count": null,
   "metadata": {},
   "outputs": [],
   "source": [
    "arr1[0]"
   ]
  },
  {
   "cell_type": "code",
   "execution_count": null,
   "metadata": {},
   "outputs": [],
   "source": [
    "arr1[1:]"
   ]
  },
  {
   "cell_type": "code",
   "execution_count": null,
   "metadata": {},
   "outputs": [],
   "source": [
    "arr1[::2]"
   ]
  },
  {
   "cell_type": "code",
   "execution_count": null,
   "metadata": {},
   "outputs": [],
   "source": [
    "# for n dimentional\n",
    "# before comma row after comma column\n",
    "arr1[:,0]"
   ]
  },
  {
   "cell_type": "code",
   "execution_count": null,
   "metadata": {},
   "outputs": [],
   "source": [
    "arr1[1:,1:]"
   ]
  },
  {
   "cell_type": "code",
   "execution_count": null,
   "metadata": {},
   "outputs": [],
   "source": [
    "fiveDarr = np.array([[[[[1,2,3,4],[5,6,7,8],[9,10,11,12]]]]])\n",
    "print(fiveDarr)\n",
    "# first zero return 4-D\n",
    "# Second zero retutn 3-D\n",
    "# Third zero return 2-D\n",
    "# Then we are using slice method\n",
    "# 0:1 means return 0th row\n",
    "# After comma 2: means from column 2 to end\n",
    "fiveDarr[0,0,0,0:1, 2:]"
   ]
  },
  {
   "cell_type": "code",
   "execution_count": null,
   "metadata": {},
   "outputs": [],
   "source": [
    "# 5-D has 1 element\n",
    "# 4-D has 1 element\n",
    "# 3-D has 1 element\n",
    "# 2-D has 3 elements\n",
    "# 1-D has 4 elements\n",
    "fiveDarr.shape"
   ]
  },
  {
   "cell_type": "code",
   "execution_count": null,
   "metadata": {},
   "outputs": [],
   "source": [
    "x = np.array([2,3,1,4,5,9,7])"
   ]
  },
  {
   "cell_type": "code",
   "execution_count": null,
   "metadata": {},
   "outputs": [],
   "source": [
    "# sum of all elements\n",
    "np.sum(x)"
   ]
  },
  {
   "cell_type": "code",
   "execution_count": null,
   "metadata": {},
   "outputs": [],
   "source": [
    "# mean of elements\n",
    "np.mean(x)"
   ]
  },
  {
   "cell_type": "code",
   "execution_count": null,
   "metadata": {},
   "outputs": [],
   "source": [
    "# minimum number in array\n",
    "np.min(x)"
   ]
  },
  {
   "cell_type": "code",
   "execution_count": null,
   "metadata": {},
   "outputs": [],
   "source": [
    "np.max(x)"
   ]
  },
  {
   "cell_type": "code",
   "execution_count": null,
   "metadata": {},
   "outputs": [],
   "source": [
    "np.median(x)"
   ]
  },
  {
   "cell_type": "code",
   "execution_count": null,
   "metadata": {},
   "outputs": [],
   "source": [
    "#standered deviation\n",
    "np.std(x)"
   ]
  },
  {
   "cell_type": "code",
   "execution_count": null,
   "metadata": {},
   "outputs": [],
   "source": [
    "#angle=np.linspace(0,360,24, endpoint=False)\n",
    "angle = np.linspace(0,360,25)\n",
    "angle"
   ]
  },
  {
   "cell_type": "code",
   "execution_count": null,
   "metadata": {},
   "outputs": [],
   "source": [
    "angle_in_rand = np.radians(angle)\n",
    "angle_in_rand"
   ]
  },
  {
   "cell_type": "code",
   "execution_count": null,
   "metadata": {},
   "outputs": [],
   "source": [
    "sin_values = np.sin(angle_in_rand)\n",
    "sin_values"
   ]
  },
  {
   "cell_type": "code",
   "execution_count": null,
   "metadata": {},
   "outputs": [],
   "source": [
    "cos_values = np.cos(angle_in_rand)\n",
    "cos_values"
   ]
  },
  {
   "cell_type": "markdown",
   "metadata": {},
   "source": [
    "# Linear Algebra in numpy module"
   ]
  },
  {
   "cell_type": "code",
   "execution_count": null,
   "metadata": {},
   "outputs": [],
   "source": [
    "arr1"
   ]
  },
  {
   "cell_type": "code",
   "execution_count": null,
   "metadata": {},
   "outputs": [],
   "source": [
    "#Treanspose\n",
    "arr1.T"
   ]
  },
  {
   "cell_type": "code",
   "execution_count": null,
   "metadata": {},
   "outputs": [],
   "source": [
    "arr1 = np.array([[4,3,5],[9,6,4],[1,5,2]])"
   ]
  },
  {
   "cell_type": "code",
   "execution_count": null,
   "metadata": {},
   "outputs": [],
   "source": [
    "#inverse of arr1 matrix\n",
    "x1 = np.linalg.inv(arr1)"
   ]
  },
  {
   "cell_type": "code",
   "execution_count": null,
   "metadata": {},
   "outputs": [],
   "source": [
    "x1"
   ]
  },
  {
   "cell_type": "code",
   "execution_count": null,
   "metadata": {},
   "outputs": [],
   "source": [
    "# we will get identity matrix\n",
    "# non diaglonal elements will be very close to zero\n",
    "arr1@x1"
   ]
  },
  {
   "cell_type": "code",
   "execution_count": null,
   "metadata": {},
   "outputs": [],
   "source": [
    "#determinants of arr1\n",
    "np.linalg.det(arr1)"
   ]
  },
  {
   "cell_type": "code",
   "execution_count": null,
   "metadata": {},
   "outputs": [],
   "source": [
    "# 2x+3y=13\n",
    "# 5x+2y=4\n",
    "# find x=? and y=?\n",
    "a1 = np.array([[2,3],[5,-2]])\n",
    "out = np.array([13,4])\n",
    "res = np.linalg.solve(a1,out)\n",
    "res"
   ]
  },
  {
   "cell_type": "code",
   "execution_count": null,
   "metadata": {},
   "outputs": [],
   "source": [
    "# 2x+3y+2z=21\n",
    "# 5x-2y+5z=24\n",
    "# x+y+x=9\n",
    "# find x=? , y=? and z=?\n",
    "a2 = np.array([[2,3,2],[5,-2,5],[1,1,1]])\n",
    "out = np.array([21,24,9])\n",
    "res = np.linalg.solve(a2,out)\n",
    "res"
   ]
  },
  {
   "cell_type": "code",
   "execution_count": null,
   "metadata": {},
   "outputs": [],
   "source": [
    "arr1"
   ]
  },
  {
   "cell_type": "code",
   "execution_count": null,
   "metadata": {},
   "outputs": [],
   "source": [
    "# save array in a file in binary form\n",
    "np.save('ML',arr1)"
   ]
  },
  {
   "cell_type": "code",
   "execution_count": null,
   "metadata": {},
   "outputs": [],
   "source": [
    "# retrive the saved data\n",
    "x = np.load('ML.npy')"
   ]
  },
  {
   "cell_type": "code",
   "execution_count": null,
   "metadata": {},
   "outputs": [],
   "source": [
    "x"
   ]
  },
  {
   "cell_type": "code",
   "execution_count": null,
   "metadata": {},
   "outputs": [],
   "source": [
    "arr2 = np.array([[1,2,3],[3,4,5],[6,7,8]])\n",
    "arr2"
   ]
  },
  {
   "cell_type": "code",
   "execution_count": null,
   "metadata": {},
   "outputs": [],
   "source": [
    "# store the data in txt format\n",
    "np.savetxt('a.txt',arr2)"
   ]
  },
  {
   "cell_type": "code",
   "execution_count": null,
   "metadata": {},
   "outputs": [],
   "source": [
    "# retrive the saved data\n",
    "data = np.loadtxt('a.txt')"
   ]
  },
  {
   "cell_type": "code",
   "execution_count": null,
   "metadata": {},
   "outputs": [],
   "source": [
    "data"
   ]
  }
 ],
 "metadata": {
  "kernelspec": {
   "display_name": "Python 3",
   "language": "python",
   "name": "python3"
  },
  "language_info": {
   "codemirror_mode": {
    "name": "ipython",
    "version": 3
   },
   "file_extension": ".py",
   "mimetype": "text/x-python",
   "name": "python",
   "nbconvert_exporter": "python",
   "pygments_lexer": "ipython3",
   "version": "3.7.3"
  }
 },
 "nbformat": 4,
 "nbformat_minor": 2
}
